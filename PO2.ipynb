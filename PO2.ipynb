{
  "nbformat": 4,
  "nbformat_minor": 0,
  "metadata": {
    "colab": {
      "provenance": []
    },
    "kernelspec": {
      "name": "python3",
      "display_name": "Python 3"
    },
    "language_info": {
      "name": "python"
    }
  },
  "cells": [
    {
      "cell_type": "code",
      "execution_count": 16,
      "metadata": {
        "colab": {
          "base_uri": "https://localhost:8080/"
        },
        "id": "F3uU8BGL4A2C",
        "outputId": "f3c81820-2744-4c0d-dbd5-fe9ca74724f8"
      },
      "outputs": [
        {
          "output_type": "stream",
          "name": "stdout",
          "text": [
            "Descrição: nuvens dispersas\n",
            "Temperatura em Celsius: 24.4\n"
          ]
        }
      ],
      "source": [
        "import requests\n",
        "a = requests.get(\"https://api.openweathermap.org/data/2.5/weather?lat=-23.3053&lon=-45.9658&appid=5f8bcf9325d01ed2ac83600a5af35e2f&units=metric&lang=pt_br\")\n",
        "b = a.json()\n",
        "print(\"Descrição:\",b['weather'][0]['description'])\n",
        "print(\"Temperatura em Celsius:\",b['main']['temp'])"
      ]
    }
  ]
}